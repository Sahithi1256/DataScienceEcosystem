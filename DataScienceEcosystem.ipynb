{
 "cells": [
  {
   "cell_type": "markdown",
   "id": "3b2615ff",
   "metadata": {},
   "source": [
    "# DataScienceEcosystem"
   ]
  },
  {
   "cell_type": "markdown",
   "id": "24896886",
   "metadata": {},
   "source": [
    "In this notebook, Data Science Tools and Ecosystem are summarized."
   ]
  },
  {
   "cell_type": "markdown",
   "id": "603a96b6",
   "metadata": {},
   "source": [
    "**Objectives**:<br>\n",
    "->List popular languages for Data Science<br>\n",
    "->List commonly used libraries used by data scientists.<br>\n",
    "->List data science tools<br>"
   ]
  },
  {
   "cell_type": "markdown",
   "id": "bcf6fdee",
   "metadata": {},
   "source": [
    "Some of the popular languages that Data Scientists use are:<br>\n",
    "    1)Python.<br>\n",
    "    2)R.<br>\n",
    "    3)SQL.<br>\n",
    "    4)Java.<br>\n",
    "    5)Julia.<br>\n",
    "    6)Scala.<br>\n",
    "    7)C/C++<br>\n",
    "    8)JavaScript.<br>"
   ]
  },
  {
   "cell_type": "markdown",
   "id": "7c2332e1",
   "metadata": {},
   "source": [
    "Some of the commonly used libraries used by Data Scientists include:<br>\n",
    "    1)Pandas<br>\n",
    "    2)Matplotlib<br>\n",
    "    3)Keras<br>\n",
    "    \n",
    "    \n",
    "    \n",
    "    "
   ]
  },
  {
   "cell_type": "markdown",
   "id": "7903087d",
   "metadata": {},
   "source": [
    "|Data Science Tools|\n",
    "|---|\n",
    "|RStudio|\n",
    "|Apache Hadoop|\n",
    "|Jupyter Notebooks|"
   ]
  },
  {
   "cell_type": "markdown",
   "id": "0395a037",
   "metadata": {},
   "source": [
    "### Below are a few examples of evaluating arithmetic expressions in Python."
   ]
  },
  {
   "cell_type": "code",
   "execution_count": 2,
   "id": "5bf53b23",
   "metadata": {},
   "outputs": [
    {
     "data": {
      "text/plain": [
       "17"
      ]
     },
     "execution_count": 2,
     "metadata": {},
     "output_type": "execute_result"
    }
   ],
   "source": [
    "#This a simple arithmetic expression to mutiply then add integers\n",
    "(3*4)+5"
   ]
  },
  {
   "cell_type": "code",
   "execution_count": 3,
   "id": "e4136b46",
   "metadata": {},
   "outputs": [
    {
     "data": {
      "text/plain": [
       "3.3333333333333335"
      ]
     },
     "execution_count": 3,
     "metadata": {},
     "output_type": "execute_result"
    }
   ],
   "source": [
    "#his will convert 200 minutes to hours by diving by 60\n",
    "minutes = 200\n",
    "hours = minutes/60\n",
    "hours"
   ]
  },
  {
   "cell_type": "markdown",
   "id": "5b30a625",
   "metadata": {},
   "source": [
    "## Author\n",
    "Kolusu Sahithi"
   ]
  },
  {
   "cell_type": "code",
   "execution_count": null,
   "id": "01b5e5a6",
   "metadata": {},
   "outputs": [],
   "source": []
  }
 ],
 "metadata": {
  "kernelspec": {
   "display_name": "Python 3 (ipykernel)",
   "language": "python",
   "name": "python3"
  },
  "language_info": {
   "codemirror_mode": {
    "name": "ipython",
    "version": 3
   },
   "file_extension": ".py",
   "mimetype": "text/x-python",
   "name": "python",
   "nbconvert_exporter": "python",
   "pygments_lexer": "ipython3",
   "version": "3.9.13"
  }
 },
 "nbformat": 4,
 "nbformat_minor": 5
}
